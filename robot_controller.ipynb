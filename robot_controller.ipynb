{
 "cells": [
  {
   "cell_type": "markdown",
   "metadata": {
    "heading_collapsed": true
   },
   "source": [
    "## Imports"
   ]
  },
  {
   "cell_type": "code",
   "execution_count": 1,
   "metadata": {
    "ExecuteTime": {
     "end_time": "2022-05-20T21:58:37.269261Z",
     "start_time": "2022-05-20T21:58:27.162791Z"
    },
    "hidden": true,
    "scrolled": true
   },
   "outputs": [],
   "source": [
    "import time\n",
    "import numpy as np\n",
    "import matplotlib as mpl\n",
    "import matplotlib.pyplot as plt\n",
    "import ipywidgets as widgets\n",
    "import jupyros as jr\n",
    "import rospy\n",
    "import tf\n",
    "import actionlib\n",
    "\n",
    "from __future__ import print_function\n",
    "from IPython.display import display\n",
    "from ipywidgets import interact, interactive, fixed, interact_manual\n",
    "from ipywidgets import Button, Layout, ButtonStyle, GridBox, VBox, HBox\n",
    "from IPython.display import clear_output\n",
    "from geometry_msgs.msg import Twist\n",
    "from std_msgs.msg import String\n",
    "from std_srvs.srv import Empty\n",
    "from move_base_msgs.msg import MoveBaseAction, MoveBaseGoal, MoveBaseActionFeedback\n",
    "from geometry_msgs.msg import Twist\n",
    "from sensor_msgs.msg import LaserScan\n",
    "from actionlib_msgs.msg import GoalStatusArray\n",
    "from nav_msgs.msg import Odometry\n",
    "from tf.transformations import quaternion_matrix\n",
    "from matplotlib.animation import FuncAnimation"
   ]
  },
  {
   "cell_type": "markdown",
   "metadata": {
    "heading_collapsed": true
   },
   "source": [
    "## Global variables, publishers and node initialization"
   ]
  },
  {
   "cell_type": "code",
   "execution_count": 2,
   "metadata": {
    "ExecuteTime": {
     "end_time": "2022-05-20T21:58:42.320881Z",
     "start_time": "2022-05-20T21:58:37.272246Z"
    },
    "hidden": true
   },
   "outputs": [],
   "source": [
    "#Initiliaze node\n",
    "rospy.init_node('robot_controller')\n",
    "\n",
    "# Initialize publishers\n",
    "pub_vel = rospy.Publisher('/cmd_vel', Twist, queue_size=100)\n",
    "\n",
    "# Goal variables\n",
    "client_goal = actionlib.SimpleActionClient('move_base', MoveBaseAction)\n",
    "client_goal.wait_for_server()\n",
    "goal_set = False\n",
    "goal_active = False\n",
    "counts_reached = 0\n",
    "counts_not_reached = 0\n",
    "global start_time\n",
    "\n",
    "# Velocity and collision assistant\n",
    "vel_msg = Twist()\n",
    "manual = False\n",
    "assistant = False\n",
    "threshold_collision = 0.6\n",
    "global obstacles_range\n",
    "\n",
    "# Menùs widgets\n",
    "global main_menu\n",
    "global automatic_mode\n",
    "global manual_mode"
   ]
  },
  {
   "cell_type": "markdown",
   "metadata": {
    "heading_collapsed": true
   },
   "source": [
    "## Functions"
   ]
  },
  {
   "cell_type": "code",
   "execution_count": 3,
   "metadata": {
    "ExecuteTime": {
     "end_time": "2022-05-20T21:58:42.341683Z",
     "start_time": "2022-05-20T21:58:42.323753Z"
    },
    "hidden": true
   },
   "outputs": [],
   "source": [
    "#cancels the goal by using the action client\n",
    "def cancel_goal():\n",
    "    global client_goal, goal_set\n",
    "    if (goal_set):\n",
    "        client_goal.cancel_goal()\n",
    "        goal_set = False\n",
    "        print(\"\\n  ==   GOAL CANCELLED   == \")\n",
    "    else:\n",
    "        print(\"\\n  ==   NO GOAL TO CANCEL   ==\")\n",
    "\n",
    "        \n",
    "#clears the output and shows the menu given in input\n",
    "def display_menu(menu):\n",
    "    clear_output(wait=True)\n",
    "    display(menu)"
   ]
  },
  {
   "cell_type": "markdown",
   "metadata": {
    "heading_collapsed": true
   },
   "source": [
    "## Subscribers and callbacks"
   ]
  },
  {
   "cell_type": "code",
   "execution_count": 4,
   "metadata": {
    "ExecuteTime": {
     "end_time": "2022-05-20T21:58:42.528532Z",
     "start_time": "2022-05-20T21:58:42.361527Z"
    },
    "hidden": true
   },
   "outputs": [],
   "source": [
    "#callback for the laserscan: if assistant is on, it avoid the robot\n",
    "#to touch walls by checking the walls distance and modifying the velocity msg\n",
    "def driving_assistant(laser_msg):\n",
    "\n",
    "    global vel_msg, threshold_collision, obstacles_range, manual\n",
    "    \n",
    "    #saves the laserscan ranges reversed in a global variable to be used to plot\n",
    "    obstacles_range = laser_msg.ranges[::-1]\n",
    "    \n",
    "    if not manual:\n",
    "        return\n",
    "    \n",
    "    # Control for the nearest walls if assistant is active\n",
    "    if assistant:\n",
    "        regions = {\n",
    "            'right':  min(min(laser_msg.ranges[0:239]), 10),\n",
    "            'front':  min(min(laser_msg.ranges[240:479]), 10),\n",
    "            'left':   min(min(laser_msg.ranges[480:719]), 10),\n",
    "        }\n",
    "\n",
    "        # Set velocity to 0 if there is an obstacle near in the direction in which I'm going\n",
    "        if ((regions['front'] < threshold_collision and vel_msg.linear.x > 0) \n",
    "            or (regions['right'] < threshold_collision and vel_msg.angular.z < 0) \n",
    "            or (regions['left'] < threshold_collision and vel_msg.angular.z > 0)):\n",
    "            \n",
    "            vel_msg.linear.x = 0\n",
    "            vel_msg.angular.z = 0\n",
    "            \n",
    "    # Publish the velocity\n",
    "    pub_vel.publish(vel_msg)\n",
    "\n",
    "#callback for the feedback of the action: it check the state of the goal and\n",
    "# the duration of the action, cancelling the goal if a timeout of 1 minut is reached\n",
    "def check_status(status_msg):\n",
    "    global start_time, counts_reached, counts_not_reached, goal_set\n",
    "    \n",
    "    if not goal_set:\n",
    "        return\n",
    "        \n",
    "    # Timeout\n",
    "    if (rospy.Time.now().to_sec() - start_time.to_sec()) > 60 :\n",
    "        display_menu(main_menu)\n",
    "        print(\"\\n  ==   TIMEOUT EXCEEDED: GOAL CANNOT BE REACHED   == \")\n",
    "        cancel_goal()\n",
    "        counts_not_reached += 1\n",
    "        return\n",
    "    \n",
    "    # SUCCEEDED\n",
    "    if client_goal.get_state() == 3:\n",
    "        display_menu(main_menu)\n",
    "        print(\"\\n  ==   GOAL REACHED   == \")\n",
    "        counts_reached += 1\n",
    "        goal_set = False\n",
    "\n",
    "    \n",
    "# Initialize subscribers\n",
    "sub_laser = jr.subscribe('/scan', LaserScan, driving_assistant)\n",
    "sub_status = jr.subscribe('move_base/status', GoalStatusArray, check_status)"
   ]
  },
  {
   "cell_type": "markdown",
   "metadata": {
    "heading_collapsed": true
   },
   "source": [
    "## Main menu"
   ]
  },
  {
   "cell_type": "code",
   "execution_count": 5,
   "metadata": {
    "ExecuteTime": {
     "end_time": "2022-05-20T21:58:42.667460Z",
     "start_time": "2022-05-20T21:58:42.533034Z"
    },
    "hidden": true
   },
   "outputs": [],
   "source": [
    "b1 = Button(description='AUTOMATIC MODE - Set a goal to be reached autonomously',\n",
    "    layout=Layout(width='715px', height ='100px', align=\"center\", grid_area='b1'),\n",
    "    style=ButtonStyle(button_color='LightSeaGreen'))\n",
    "\n",
    "b2 = Button(description='MANUAL MODE - Control the robot with buttons',\n",
    "    layout=Layout(width='auto', height ='100px', align=\"center\", grid_area='b2'),\n",
    "    style=ButtonStyle(button_color='lightskyblue'))\n",
    "\n",
    "b3 = Button(description='MANUAL MODE + Assistant to avoid obstacles',\n",
    "    layout=Layout(width='auto', height ='100px',align=\"center\", grid_area='b3'),\n",
    "    style=ButtonStyle(button_color='lightblue'))\n",
    "\n",
    "b4 = Button(description='CANCEL GOAL',\n",
    "    layout=Layout(width='auto',height ='50px', align=\"center\", grid_area='b4'),\n",
    "    style=ButtonStyle(button_color='salmon'))\n",
    "\n",
    "main_menu = GridBox(children=[b1, b2, b3, b4],\n",
    "    layout=Layout(\n",
    "        width='720px',\n",
    "        grid_template_rows='auto',\n",
    "        grid_template_columns='50% 50%',\n",
    "        grid_template_areas='''\n",
    "        \"b1 .\"\n",
    "        \"b2 b3\"\n",
    "        \". b4\"\n",
    "        ''')\n",
    "    )\n",
    "\n",
    "def clicked_manual(b):\n",
    "    global assistant, manual\n",
    "    manual = True\n",
    "    display_menu(manual_mode)\n",
    "    if b is b3:\n",
    "        assistant = True\n",
    "        print('\\n  ==   Collision Assistant ON   ==')\n",
    "    else:\n",
    "        print('\\n  ==   Collision Assistant OFF   ==')\n",
    "\n",
    "def clicked_auto(b):\n",
    "    display_menu(automatic_mode)\n",
    "\n",
    "def clicked_cancel(b):\n",
    "    cancel_goal()\n",
    "        \n",
    "b1.on_click(clicked_auto)\n",
    "b2.on_click(clicked_manual)\n",
    "b3.on_click(clicked_manual)\n",
    "b4.on_click(clicked_cancel)"
   ]
  },
  {
   "cell_type": "markdown",
   "metadata": {
    "heading_collapsed": true
   },
   "source": [
    "## Automatic mode menu"
   ]
  },
  {
   "cell_type": "code",
   "execution_count": 6,
   "metadata": {
    "ExecuteTime": {
     "end_time": "2022-05-20T21:58:42.853339Z",
     "start_time": "2022-05-20T21:58:42.681612Z"
    },
    "hidden": true
   },
   "outputs": [],
   "source": [
    "x_goal = widgets.FloatSlider(\n",
    "        value=0,\n",
    "        min=-10,\n",
    "        max=10,\n",
    "        step=0.1,\n",
    "        description='X:',\n",
    "        disabled=False,\n",
    "        continuous_update=False,\n",
    "        orientation='horizontal',\n",
    "        readout=True,\n",
    "        readout_format='.1f',\n",
    "        layout=widgets.Layout(width='500px'))\n",
    "\n",
    "y_goal = widgets.FloatSlider(\n",
    "        value=0,\n",
    "        min=-10,\n",
    "        max=10,\n",
    "        step=0.1,\n",
    "        description='Y:',\n",
    "        disabled=False,\n",
    "        continuous_update=False,\n",
    "        orientation='horizontal',\n",
    "        readout=True,\n",
    "        readout_format='.1f',\n",
    "        layout=widgets.Layout(width='500px'))\n",
    "\n",
    "send_button = Button(description='SEND GOAL',\n",
    "    layout=Layout(width='200px', height ='30px', align=\"center\", grid_area='send_button'),\n",
    "    style=ButtonStyle(button_color='LightSeaGreen'))\n",
    "\n",
    "back_button1 = Button(description='BACK TO MAIN MENU',\n",
    "    layout=Layout(width='200px', height ='30px', align=\"center\", grid_area='send_button'),\n",
    "    style=ButtonStyle(button_color='silver'))\n",
    "\n",
    "automatic_mode = HBox([VBox([x_goal, y_goal]), VBox([send_button, back_button1])])\n",
    "\n",
    "def clicked_send_goal(b):\n",
    "    global goal_set, client_goal, start_time\n",
    "    # Initialize the goal\n",
    "    goal_msg = MoveBaseGoal()\n",
    "    goal_msg.target_pose.header.frame_id = \"map\"\n",
    "    goal_msg.target_pose.header.stamp = rospy.Time.now()\n",
    "    goal_msg.target_pose.pose.orientation.w = 1\n",
    "    goal_msg.target_pose.pose.position.x = x_goal.value\n",
    "    goal_msg.target_pose.pose.position.y = y_goal.value\n",
    "    \n",
    "    # Use the goal action\n",
    "    start_time = rospy.Time.now()\n",
    "    goal_set = True\n",
    "    client_goal.send_goal(goal_msg)\n",
    "    display_menu(main_menu)\n",
    "    print(\"\\n  ==   GOAL PUBLISHED   == \")\n",
    "    \n",
    "    \n",
    "def clicked_back_button(b):\n",
    "    global manual\n",
    "    if manual:\n",
    "        manual = False\n",
    "    display_menu(main_menu)\n",
    "    \n",
    "back_button1.on_click(clicked_back_button)\n",
    "send_button.on_click(clicked_send_goal)\n"
   ]
  },
  {
   "cell_type": "markdown",
   "metadata": {
    "ExecuteTime": {
     "end_time": "2022-04-23T21:29:06.019754Z",
     "start_time": "2022-04-23T21:29:05.970725Z"
    },
    "heading_collapsed": true
   },
   "source": [
    "## Manual mode menu"
   ]
  },
  {
   "cell_type": "code",
   "execution_count": 7,
   "metadata": {
    "ExecuteTime": {
     "end_time": "2022-05-20T21:58:43.092703Z",
     "start_time": "2022-05-20T21:58:42.866489Z"
    },
    "hidden": true,
    "scrolled": true
   },
   "outputs": [],
   "source": [
    "#↗↖↘↙→←↑↓\n",
    "\n",
    "up_left = Button(description='↖↖↖',\n",
    "    layout=Layout(width='80px', height ='80px', align=\"center\", grid_area='up_left'),\n",
    "    style=ButtonStyle(button_color='LightSeaGreen'))\n",
    "\n",
    "up = Button(description='↑↑↑',\n",
    "    layout=Layout(width='80px', height ='80px', align=\"center\", grid_area='up'),\n",
    "    style=ButtonStyle(button_color='LightSeaGreen'))\n",
    "\n",
    "up_right = Button(description='↗↗↗',                  \n",
    "    layout=Layout(width='80px', height ='80px', align=\"center\", grid_area='up_right'),\n",
    "    style=ButtonStyle(button_color='LightSeaGreen'))\n",
    "\n",
    "left = Button(description='←←←',\n",
    "    layout=Layout(width='80px', height ='80px', align=\"center\", grid_area='up_left'),\n",
    "    style=ButtonStyle(button_color='LightSeaGreen'))\n",
    "\n",
    "stop = Button(description='STOP',\n",
    "    layout=Layout(width='80px', height ='80px', align=\"center\", grid_area='up_left'),\n",
    "    style=ButtonStyle(button_color='salmon'))\n",
    "\n",
    "right = Button(description='→→→',\n",
    "    layout=Layout(width='80px', height ='80px', align=\"center\", grid_area='up'),\n",
    "    style=ButtonStyle(button_color='LightSeaGreen'))\n",
    "\n",
    "down_left = Button(description='↙↙↙',\n",
    "    layout=Layout(width='80px', height ='80px', align=\"center\", grid_area='up'),\n",
    "    style=ButtonStyle(button_color='LightSeaGreen'))\n",
    "\n",
    "down = Button(description='↓↓↓',\n",
    "    layout=Layout(width='80px', height ='80px', align=\"center\", grid_area='up'),\n",
    "    style=ButtonStyle(button_color='LightSeaGreen'))\n",
    "\n",
    "down_right = Button(description='↘↘↘',                  \n",
    "    layout=Layout(width='80px', height ='80px', align=\"center\", grid_area='up_right'),\n",
    "    style=ButtonStyle(button_color='LightSeaGreen'))\n",
    "\n",
    "back_button2 = Button(description='BACK TO MAIN MENU',                  \n",
    "    layout=Layout(width='200px', height ='80px', align=\"center\", grid_area='up_right'),\n",
    "    style=ButtonStyle(button_color='silver'))\n",
    "\n",
    "manual_mode = VBox([HBox([up_left, up, up_right]),\n",
    "                    HBox([left, stop , right, back_button2]),\n",
    "                    HBox([down_left, down , down_right])])\n",
    "    \n",
    "def clicked_direction(b):\n",
    "    global vel_msg\n",
    "    # Up/down\n",
    "    if b == up or b == up_left or b == up_right:\n",
    "        vel_msg.linear.x = 0.5\n",
    "    elif b == down or b == down_left or b == down_right:\n",
    "        vel_msg.linear.x = -0.5\n",
    "    else:\n",
    "        vel_msg.linear.x = 0\n",
    "    # Right/left\n",
    "    if b == up_left or b == left or b == down_right:\n",
    "        vel_msg.angular.z = 0.5\n",
    "    elif b == up_right or b == right or b == down_left:\n",
    "        vel_msg.angular.z = -0.5\n",
    "    else:\n",
    "        vel_msg.angular.z = 0\n",
    "    # Stop\n",
    "    if b == stop:\n",
    "        vel_msg.linear.x = 0\n",
    "        vel_msg.angular.z = 0\n",
    "\n",
    "up.on_click(clicked_direction)\n",
    "up_left.on_click(clicked_direction)\n",
    "up_right.on_click(clicked_direction)\n",
    "left.on_click(clicked_direction)\n",
    "stop.on_click(clicked_direction)\n",
    "right.on_click(clicked_direction)\n",
    "down_left.on_click(clicked_direction)\n",
    "down.on_click(clicked_direction)\n",
    "down_right.on_click(clicked_direction)\n",
    "\n",
    "back_button2.on_click(clicked_back_button)"
   ]
  },
  {
   "cell_type": "markdown",
   "metadata": {
    "heading_collapsed": true,
    "hide_input": false
   },
   "source": [
    "## Plots"
   ]
  },
  {
   "cell_type": "code",
   "execution_count": 8,
   "metadata": {
    "ExecuteTime": {
     "end_time": "2022-05-20T21:58:43.504474Z",
     "start_time": "2022-05-20T21:58:43.094837Z"
    },
    "hidden": true,
    "hide_input": false,
    "scrolled": false
   },
   "outputs": [
    {
     "data": {
      "application/vnd.jupyter.widget-view+json": {
       "model_id": "77173c5bb0a443819a2a68d2e7ebf211",
       "version_major": 2,
       "version_minor": 0
      },
      "text/plain": [
       "Canvas(toolbar=Toolbar(toolitems=[('Home', 'Reset original view', 'home', 'home'), ('Back', 'Back to previous …"
      ]
     },
     "metadata": {},
     "output_type": "display_data"
    },
    {
     "data": {
      "application/vnd.jupyter.widget-view+json": {
       "model_id": "de9920b917ed4b9e8e1df9b800f26655",
       "version_major": 2,
       "version_minor": 0
      },
      "text/plain": [
       "Canvas(toolbar=Toolbar(toolitems=[('Home', 'Reset original view', 'home', 'home'), ('Back', 'Back to previous …"
      ]
     },
     "metadata": {},
     "output_type": "display_data"
    },
    {
     "data": {
      "application/vnd.jupyter.widget-view+json": {
       "model_id": "bb2c57c46c5243e49d3209048c25c2f3",
       "version_major": 2,
       "version_minor": 0
      },
      "text/plain": [
       "Canvas(toolbar=Toolbar(toolitems=[('Home', 'Reset original view', 'home', 'home'), ('Back', 'Back to previous …"
      ]
     },
     "metadata": {},
     "output_type": "display_data"
    }
   ],
   "source": [
    "%matplotlib widget\n",
    "\n",
    "############ LASER SCAN\n",
    "\n",
    "class VisualiserScan:\n",
    "    def __init__(self):\n",
    "        self.fig, self.ax = plt.subplots()\n",
    "        self.ln, = self.ax.plot([], [], 'ro')\n",
    "        self.x_data = np.linspace(-90,90,720).tolist() \n",
    "        \n",
    "    def plot_init(self):\n",
    "        self.ax.set_xlim(-90, 90)\n",
    "        self.ax.set_xlabel('Radius')\n",
    "        self.ax.set_xticks([-90, 0, 90])\n",
    "        self.ax.set_ylim(0, 15)\n",
    "        self.ax.set_ylabel('Distance')\n",
    "        self.ax.set_title(\"Laser scan\")\n",
    "        return self.ln\n",
    "        \n",
    "    def update_plot(self, frame):\n",
    "        self.ln.set_data(self.x_data, obstacles_range)\n",
    "        return self.ln\n",
    "\n",
    "vis_scan = VisualiserScan()\n",
    "\n",
    "\n",
    "############ ROBOT POSITION\n",
    "\n",
    "class VisualiserOdom:\n",
    "    def __init__(self):\n",
    "        self.fig, self.ax = plt.subplots()\n",
    "        self.ln, = self.ax.plot([], [], 'gx')\n",
    "        self.x_data, self.y_data = [] , []\n",
    "        \n",
    "    def plot_init(self):\n",
    "        self.ax.set_xlim(-10, 10)\n",
    "        self.ax.set_xlabel('X')\n",
    "        self.ax.set_ylim(-10, 10)\n",
    "        self.ax.set_ylabel('Y')\n",
    "        self.ax.set_title(\"Odometry of the robot\")\n",
    "        return self.ln\n",
    "\n",
    "    def odom_callback(self, msg):\n",
    "        self.y_data.append(msg.pose.pose.position.y)\n",
    "        self.x_data.append(msg.pose.pose.position.x)\n",
    "        \n",
    "    def update_plot(self, frame):\n",
    "        self.ln.set_data(self.x_data, self.y_data)\n",
    "        return self.ln\n",
    "vis_odom = VisualiserOdom()\n",
    "sub_odom = jr.subscribe('/odom', Odometry, vis_odom.odom_callback)\n",
    "\n",
    "\n",
    "############# REACHED/UNREACHED TARGETS\n",
    "\n",
    "fig_bar, ax_bar = plt.subplots()\n",
    "ax_bar.set_title(\"Reached/Unreached targets count\")\n",
    "\n",
    "y1,y2, = [], []\n",
    "def update_bar(curr):\n",
    "    global counts_reached, counts_not_reached\n",
    "    y1 = counts_reached\n",
    "    y2 = counts_not_reached\n",
    "    ax_bar.bar([\"Reached targets\", \"Unreached targets\"], [y1,y2], color = ['green', 'red'])\n",
    "\n",
    "############# ANIMATIONS\n",
    "    \n",
    "ani_odom = FuncAnimation(vis_odom.fig, vis_odom.update_plot, init_func=vis_odom.plot_init)\n",
    "ani_scan = FuncAnimation(vis_scan.fig, vis_scan.update_plot, init_func=vis_scan.plot_init)\n",
    "ani_targets = FuncAnimation(fig_bar, update_bar)\n",
    "\n",
    "plt.show()\n"
   ]
  },
  {
   "cell_type": "markdown",
   "metadata": {
    "heading_collapsed": true
   },
   "source": [
    "## User Interface"
   ]
  },
  {
   "cell_type": "code",
   "execution_count": 9,
   "metadata": {
    "ExecuteTime": {
     "end_time": "2022-05-20T21:58:43.565309Z",
     "start_time": "2022-05-20T21:58:43.527766Z"
    },
    "hidden": true
   },
   "outputs": [
    {
     "data": {
      "application/vnd.jupyter.widget-view+json": {
       "model_id": "d9ef7c5b122142ff98c1ee0b959aa0ab",
       "version_major": 2,
       "version_minor": 0
      },
      "text/plain": [
       "VBox(children=(HBox(children=(Button(description='↖↖↖', layout=Layout(grid_area='up_left', height='80px', widt…"
      ]
     },
     "metadata": {},
     "output_type": "display_data"
    },
    {
     "name": "stdout",
     "output_type": "stream",
     "text": [
      "\n",
      "  ==   Collision Assistant ON   ==\n"
     ]
    }
   ],
   "source": [
    "output = widgets.Output()\n",
    "display(main_menu, output)"
   ]
  },
  {
   "cell_type": "code",
   "execution_count": null,
   "metadata": {
    "hidden": true
   },
   "outputs": [],
   "source": []
  }
 ],
 "metadata": {
  "hide_input": false,
  "kernelspec": {
   "display_name": "Python 3 (ipykernel)",
   "language": "python",
   "name": "python3"
  },
  "language_info": {
   "codemirror_mode": {
    "name": "ipython",
    "version": 3
   },
   "file_extension": ".py",
   "mimetype": "text/x-python",
   "name": "python",
   "nbconvert_exporter": "python",
   "pygments_lexer": "ipython3",
   "version": "3.8.10"
  },
  "toc": {
   "base_numbering": 1,
   "nav_menu": {},
   "number_sections": true,
   "sideBar": true,
   "skip_h1_title": false,
   "title_cell": "Table of Contents",
   "title_sidebar": "Contents",
   "toc_cell": false,
   "toc_position": {},
   "toc_section_display": true,
   "toc_window_display": false
  },
  "varInspector": {
   "cols": {
    "lenName": 16,
    "lenType": 16,
    "lenVar": 40
   },
   "kernels_config": {
    "python": {
     "delete_cmd_postfix": "",
     "delete_cmd_prefix": "del ",
     "library": "var_list.py",
     "varRefreshCmd": "print(var_dic_list())"
    },
    "r": {
     "delete_cmd_postfix": ") ",
     "delete_cmd_prefix": "rm(",
     "library": "var_list.r",
     "varRefreshCmd": "cat(var_dic_list()) "
    }
   },
   "position": {
    "height": "782.85px",
    "left": "1344px",
    "right": "20px",
    "top": "93px",
    "width": "408px"
   },
   "types_to_exclude": [
    "module",
    "function",
    "builtin_function_or_method",
    "instance",
    "_Feature"
   ],
   "window_display": false
  }
 },
 "nbformat": 4,
 "nbformat_minor": 5
}
